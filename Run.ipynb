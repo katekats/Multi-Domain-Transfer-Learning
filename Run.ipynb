{
 "cells": [
  {
   "cell_type": "code",
   "execution_count": null,
   "metadata": {},
   "outputs": [],
   "source": [
    "import nltk\n",
    "nltk.download('punkt')\n",
    "import os\n",
    "import shutil\n",
    "from nltk import tokenize as nltktokenize\n",
    "nltk.download('stopwords')\n",
    "from nltk.corpus import stopwords"
   ]
  },
  {
   "cell_type": "code",
   "execution_count": null,
   "metadata": {
    "scrolled": true
   },
   "outputs": [],
   "source": [
    "%run train_general_script.py --bilstm=True --exclude=Music -n “FT-HAN-BiLSTM-Music-4_gen”"
   ]
  },
  {
   "cell_type": "code",
   "execution_count": null,
   "metadata": {
    "scrolled": true
   },
   "outputs": [],
   "source": [
    "%run transfer_learning.py -i ./models/“FT-HAN-BiLSTM-Music-4_gen”.h5 -o \"FT-HAN-BiLSTM-Music-Sent2\" -a S"
   ]
  },
  {
   "cell_type": "code",
   "execution_count": null,
   "metadata": {
    "scrolled": false
   },
   "outputs": [],
   "source": [
    "%run active_learning.py -i ./models/“FT-HAN-BiLSTM-Music-4_gen”.h5 -o \"FT-HAN-BiLSTM-active_learning-Music-Sent2\" -a S -m entropy --use-outlier-detection=False"
   ]
  }
 ],
 "metadata": {
  "kernelspec": {
   "display_name": "Python 3 (ipykernel)",
   "language": "python",
   "name": "python3"
  },
  "language_info": {
   "codemirror_mode": {
    "name": "ipython",
    "version": 3
   },
   "file_extension": ".py",
   "mimetype": "text/x-python",
   "name": "python",
   "nbconvert_exporter": "python",
   "pygments_lexer": "ipython3",
   "version": "3.8.10"
  }
 },
 "nbformat": 4,
 "nbformat_minor": 4
}
